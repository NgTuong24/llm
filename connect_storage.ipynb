{
 "cells": [
  {
   "cell_type": "code",
   "execution_count": 2,
   "id": "cf838ad2-598e-49f3-a3ea-6e945bdf415a",
   "metadata": {},
   "outputs": [],
   "source": [
    "\"\"\"\n",
    "windows command prompt\n",
    "\n",
    "setx AZURE_STORAGE_CONNECTION_STRING \"DefaultEndpointsProtocol=https;AccountName=storage01624;AccountKey=TOeRIAk01zy/ud9o+cHU3G4NTtIf1+nxybGMuU4plokzcInGQxrslzcsaRfwwUDTRPdKj84iTIcx+ASto6sVRA==;EndpointSuffix=core.windows.net\"\n",
    "\n",
    "\"\"\"\n",
    "import os\n",
    "from azure.storage.blob import BlobServiceClient\n",
    "from azure.storage.blob import ContainerClient\n",
    "from azure.storage.blob import BlobClient"
   ]
  },
  {
   "cell_type": "code",
   "execution_count": 3,
   "id": "79d654b9-e5ea-417a-9dfd-9eb608f40b31",
   "metadata": {},
   "outputs": [],
   "source": [
    "# connect_str = os.getenv('AZURE_STORAGE_CONNECTION_STRING')\n",
    "connect_str = \"DefaultEndpointsProtocol=https;AccountName=storage01624;AccountKey=TOeRIAk01zy/ud9o+cHU3G4NTtIf1+nxybGMuU4plokzcInGQxrslzcsaRfwwUDTRPdKj84iTIcx+ASto6sVRA==;EndpointSuffix=core.windows.net\""
   ]
  },
  {
   "cell_type": "code",
   "execution_count": null,
   "id": "4833d92a-6a20-42bd-86f2-9a729732af5c",
   "metadata": {},
   "outputs": [],
   "source": [
    "# Create the BlobServiceClient object\n",
    "blob_service_client = BlobServiceClient.from_connection_string(connect_str)\n",
    "print(blob_service_client)"
   ]
  },
  {
   "cell_type": "code",
   "execution_count": null,
   "id": "73c21b4a-8d38-43b4-84ea-474ccf234da6",
   "metadata": {},
   "outputs": [],
   "source": [
    "# Create a container\n",
    "container_client = ContainerClient.from_connection_string(conn_str=connect_str, container_name=\"mycontainer\")\n",
    "\n",
    "container_client.create_container()"
   ]
  },
  {
   "cell_type": "code",
   "execution_count": null,
   "id": "8cab6533-711e-4fc2-a35f-d9502b3d9a82",
   "metadata": {},
   "outputs": [],
   "source": [
    "# Uploading a blob\n",
    "blob = BlobClient.from_connection_string(conn_str=connect_str, container_name=\"mycontainer\", blob_name=\"my_blob\")\n",
    "\n",
    "with open(\"./data/text.txt\", \"rb\") as data:\n",
    "    blob.upload_blob(data)"
   ]
  },
  {
   "cell_type": "code",
   "execution_count": null,
   "id": "965dd084-e1d6-4815-b9ac-61bef217ec5a",
   "metadata": {},
   "outputs": [],
   "source": [
    "# Download a blob from your container\n",
    "from azure.storage.blob import BlobClient\n",
    "\n",
    "blob = BlobClient.from_connection_string(conn_str=\"<connection_string>\", container_name=\"mycontainer\", blob_name=\"my_blob\")\n",
    "\n",
    "with open(\"./BlockDestination.txt\", \"wb\") as my_blob:\n",
    "    blob_data = blob.download_blob()\n",
    "    blob_data.readinto(my_blob)"
   ]
  },
  {
   "cell_type": "code",
   "execution_count": null,
   "id": "1332ea15-8b82-4eb8-b6c4-fea90da6b979",
   "metadata": {},
   "outputs": [],
   "source": []
  },
  {
   "cell_type": "code",
   "execution_count": 13,
   "id": "aa4c1bec-a2a9-4f5f-ad22-ff7c52e98889",
   "metadata": {},
   "outputs": [
    {
     "name": "stdout",
     "output_type": "stream",
     "text": [
      "F:\\CMC\\CMC_Study\\Code\n"
     ]
    }
   ],
   "source": [
    "cd ../"
   ]
  },
  {
   "cell_type": "code",
   "execution_count": null,
   "id": "7eb9be71-57e5-435c-923e-8fe6006cfe7d",
   "metadata": {},
   "outputs": [],
   "source": []
  }
 ],
 "metadata": {
  "kernelspec": {
   "display_name": "Python 3 (ipykernel)",
   "language": "python",
   "name": "python3"
  },
  "language_info": {
   "codemirror_mode": {
    "name": "ipython",
    "version": 3
   },
   "file_extension": ".py",
   "mimetype": "text/x-python",
   "name": "python",
   "nbconvert_exporter": "python",
   "pygments_lexer": "ipython3",
   "version": "3.10.11"
  }
 },
 "nbformat": 4,
 "nbformat_minor": 5
}
